{
 "cells": [
  {
   "cell_type": "code",
   "execution_count": 2,
   "id": "1caceb3a",
   "metadata": {},
   "outputs": [],
   "source": [
    "class User():\n",
    "    def __init__(self,first,last,area):\n",
    "        self.first=first.title\n",
    "        self.last=last.title\n",
    "        self.area=area.title\n",
    "        self.username=last+first\n",
    "    def describe_user(self):\n",
    "        print(f\"Information- {self.username}\")\n",
    "        print(f\"Name: {self.last}, {self.first}\")\n",
    "        print(f\"Location: {self.area}\")\n",
    "    def greet_user(self):\n",
    "        print(f\"Welcome {self.first} in {self.area}.\")"
   ]
  },
  {
   "cell_type": "code",
   "execution_count": 3,
   "id": "ccf5b84e",
   "metadata": {},
   "outputs": [],
   "source": [
    "u1=User('kate','a','carolina')\n",
    "u2=User('aj','r','california')\n",
    "u3=User('christian','b','carolina')"
   ]
  },
  {
   "cell_type": "code",
   "execution_count": 4,
   "id": "38e59fa3",
   "metadata": {},
   "outputs": [
    {
     "name": "stdout",
     "output_type": "stream",
     "text": [
      "Welcome <built-in method title of str object at 0x000001E9DE2E9DF0> in <built-in method title of str object at 0x000001E9DE2E9E30>.\n"
     ]
    },
    {
     "data": {
      "text/plain": [
       "<bound method User.describe_user of <__main__.User object at 0x000001E9DE2EDD00>>"
      ]
     },
     "execution_count": 4,
     "metadata": {},
     "output_type": "execute_result"
    }
   ],
   "source": [
    "u1.greet_user()\n",
    "u2.greet_user\n",
    "u3.greet_user\n",
    "u1.describe_user"
   ]
  },
  {
   "cell_type": "code",
   "execution_count": null,
   "id": "dcd93996",
   "metadata": {},
   "outputs": [],
   "source": []
  },
  {
   "cell_type": "code",
   "execution_count": null,
   "id": "a8741add",
   "metadata": {},
   "outputs": [],
   "source": []
  },
  {
   "cell_type": "code",
   "execution_count": null,
   "id": "95ba1039",
   "metadata": {},
   "outputs": [],
   "source": []
  }
 ],
 "metadata": {
  "kernelspec": {
   "display_name": "Python 3 (ipykernel)",
   "language": "python",
   "name": "python3"
  },
  "language_info": {
   "codemirror_mode": {
    "name": "ipython",
    "version": 3
   },
   "file_extension": ".py",
   "mimetype": "text/x-python",
   "name": "python",
   "nbconvert_exporter": "python",
   "pygments_lexer": "ipython3",
   "version": "3.9.13"
  }
 },
 "nbformat": 4,
 "nbformat_minor": 5
}
